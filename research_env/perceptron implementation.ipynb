{
 "cells": [
  {
   "cell_type": "code",
   "execution_count": 3,
   "id": "776855ef",
   "metadata": {},
   "outputs": [],
   "source": [
    "import os\n",
    "import matplotlib.pyplot as plt\n",
    "import joblib\n",
    "import numpy as np\n",
    "plt.style.use(\"fivethirtyeight\")"
   ]
  },
  {
   "cell_type": "code",
   "execution_count": 2,
   "id": "c2f1c93d",
   "metadata": {},
   "outputs": [
    {
     "name": "stdout",
     "output_type": "stream",
     "text": [
      "Collecting joblib\n",
      "  Downloading joblib-1.2.0-py3-none-any.whl (297 kB)\n",
      "\u001b[2K     \u001b[38;2;114;156;31m━━━━━━━━━━━━━━━━━━━━━━━━━━━━━━━━━━━━━━━\u001b[0m \u001b[32m298.0/298.0 kB\u001b[0m \u001b[31m1.6 MB/s\u001b[0m eta \u001b[36m0:00:00\u001b[0mm eta \u001b[36m0:00:01\u001b[0m[36m0:00:01\u001b[0m\n",
      "\u001b[?25hInstalling collected packages: joblib\n",
      "Successfully installed joblib-1.2.0\n"
     ]
    }
   ],
   "source": [
    "!pip install joblib"
   ]
  },
  {
   "cell_type": "code",
   "execution_count": 18,
   "id": "6ea493b4",
   "metadata": {},
   "outputs": [],
   "source": [
    "# create a perceptron class\n",
    "\n",
    "class Perceptron:\n",
    "    def __init__(self, eta: float=None, epochs: int=None):\n",
    "        self.weights = np.random.randn(3) * 1e-4\n",
    "        self.eta = eta # learning rate\n",
    "        self.epochs = epochs # iterations\n",
    "        \n",
    "    def fit(self, X, y):\n",
    "        self.X = X\n",
    "        self.y = y\n",
    "        \n",
    "        # np.c_ means concatenation operation\n",
    "        X_with_bias = np.c_[self.X, -np.ones((len(self.X),1))]\n",
    "        print(f\"X with bias value:\\n {X_with_bias}\")\n",
    "        "
   ]
  },
  {
   "cell_type": "code",
   "execution_count": 19,
   "id": "4a19f77a",
   "metadata": {},
   "outputs": [],
   "source": [
    "obj = Perceptron()"
   ]
  },
  {
   "cell_type": "code",
   "execution_count": 20,
   "id": "94a67ffe",
   "metadata": {},
   "outputs": [],
   "source": [
    "eta = 0.01\n",
    "epochs = 10"
   ]
  },
  {
   "cell_type": "code",
   "execution_count": 21,
   "id": "368d8531",
   "metadata": {},
   "outputs": [],
   "source": [
    "obj = Perceptron(eta, epochs)"
   ]
  },
  {
   "cell_type": "code",
   "execution_count": 22,
   "id": "b8b50a6c",
   "metadata": {},
   "outputs": [
    {
     "data": {
      "text/plain": [
       "0.01"
      ]
     },
     "execution_count": 22,
     "metadata": {},
     "output_type": "execute_result"
    }
   ],
   "source": [
    "obj.eta"
   ]
  },
  {
   "cell_type": "code",
   "execution_count": 23,
   "id": "fee68677",
   "metadata": {},
   "outputs": [
    {
     "data": {
      "text/plain": [
       "10"
      ]
     },
     "execution_count": 23,
     "metadata": {},
     "output_type": "execute_result"
    }
   ],
   "source": [
    "obj.epochs"
   ]
  },
  {
   "cell_type": "code",
   "execution_count": 24,
   "id": "52e8de9b",
   "metadata": {},
   "outputs": [],
   "source": [
    "X = np.ones((4,2))"
   ]
  },
  {
   "cell_type": "code",
   "execution_count": 25,
   "id": "6efecf0e",
   "metadata": {},
   "outputs": [],
   "source": [
    "y = np.ones((4,1))"
   ]
  },
  {
   "cell_type": "code",
   "execution_count": 26,
   "id": "920adeaf",
   "metadata": {},
   "outputs": [
    {
     "name": "stdout",
     "output_type": "stream",
     "text": [
      "X with bias value:\n",
      " [[ 1.  1. -1.]\n",
      " [ 1.  1. -1.]\n",
      " [ 1.  1. -1.]\n",
      " [ 1.  1. -1.]]\n"
     ]
    }
   ],
   "source": [
    "obj.fit(X, y)"
   ]
  },
  {
   "cell_type": "code",
   "execution_count": null,
   "id": "f8bb1590",
   "metadata": {},
   "outputs": [],
   "source": []
  }
 ],
 "metadata": {
  "kernelspec": {
   "display_name": "Python 3 (ipykernel)",
   "language": "python",
   "name": "python3"
  },
  "language_info": {
   "codemirror_mode": {
    "name": "ipython",
    "version": 3
   },
   "file_extension": ".py",
   "mimetype": "text/x-python",
   "name": "python",
   "nbconvert_exporter": "python",
   "pygments_lexer": "ipython3",
   "version": "3.7.16"
  }
 },
 "nbformat": 4,
 "nbformat_minor": 5
}
